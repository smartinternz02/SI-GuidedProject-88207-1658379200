{
 "cells": [
  {
   "cell_type": "code",
   "execution_count": 1,
   "id": "f60b4843",
   "metadata": {},
   "outputs": [],
   "source": [
    "# Import Libraries\n",
    "import os\n",
    "import glob\n",
    "import matplotlib.pyplot as plt\n",
    "import numpy as np\n",
    "\n",
    "# Keras API\n",
    "import keras\n",
    "from keras.models import Sequential\n",
    "from keras.layers import Dense,Dropout,Flatten\n",
    "from keras.layers import Conv2D,MaxPooling2D,Activation,AveragePooling2D,BatchNormalization\n",
    "from keras.preprocessing.image import ImageDataGenerator"
   ]
  },
  {
   "cell_type": "code",
   "execution_count": 94,
   "id": "4e652178",
   "metadata": {},
   "outputs": [],
   "source": [
    "train_dir =\"Veg-dataset/train_set/\"\n",
    "test_dir=\"Veg-dataset/test_set/\""
   ]
  },
  {
   "cell_type": "code",
   "execution_count": 95,
   "id": "07bfe60a",
   "metadata": {},
   "outputs": [],
   "source": [
    "# function to get count of images\n",
    "def get_files(directory):\n",
    "  if not os.path.exists(directory):\n",
    "    return 0\n",
    "  count=0\n",
    "  for current_path,dirs,files in os.walk(directory):\n",
    "    for dr in dirs:\n",
    "      count+= len(glob.glob(os.path.join(current_path,dr+\"/*\")))\n",
    "  return count"
   ]
  },
  {
   "cell_type": "code",
   "execution_count": 96,
   "id": "81b62606",
   "metadata": {},
   "outputs": [
    {
     "name": "stdout",
     "output_type": "stream",
     "text": [
      "9 Classes\n",
      "11386 Train images\n",
      "3416 Test images\n"
     ]
    }
   ],
   "source": [
    "train_samples =get_files(train_dir)\n",
    "num_classes=len(glob.glob(train_dir+\"/*\"))\n",
    "test_samples=get_files(test_dir)\n",
    "print(num_classes,\"Classes\")\n",
    "print(train_samples,\"Train images\")\n",
    "print(test_samples,\"Test images\")"
   ]
  },
  {
   "cell_type": "markdown",
   "id": "8b68efbd",
   "metadata": {},
   "source": [
    "# Image Preprocessing"
   ]
  },
  {
   "cell_type": "code",
   "execution_count": 97,
   "id": "c94808ad",
   "metadata": {},
   "outputs": [],
   "source": [
    "from tensorflow.keras.preprocessing.image import ImageDataGenerator\n",
    "train_datagen=ImageDataGenerator(rescale=1./255,zoom_range=0.2,horizontal_flip=True, vertical_flip=False)\n",
    "test_datagen=ImageDataGenerator(rescale=1)"
   ]
  },
  {
   "cell_type": "code",
   "execution_count": 98,
   "id": "11659c39",
   "metadata": {},
   "outputs": [
    {
     "name": "stdout",
     "output_type": "stream",
     "text": [
      " Volume in drive C has no label.\n",
      " Volume Serial Number is 2A3A-5508\n",
      "\n",
      " Directory of C:\\Users\\KumarSS\\Plant Disease\n",
      "\n",
      "17-07-2022  17:41    <DIR>          .\n",
      "17-07-2022  16:53    <DIR>          ..\n",
      "17-07-2022  17:18    <DIR>          .ipynb_checkpoints\n",
      "17-07-2022  16:51    <DIR>          DatasetPlantDisease\n",
      "17-07-2022  17:18        61,030,888 fruit.h5\n",
      "17-07-2022  17:10    <DIR>          fruit-dataset\n",
      "17-07-2022  17:24            34,298 fruittraining.ipynb\n",
      "17-07-2022  17:11    <DIR>          Training Files\n",
      "17-07-2022  17:10    <DIR>          Veg-dataset\n",
      "17-07-2022  17:41            30,416 vegtraining.ipynb\n",
      "               3 File(s)     61,095,602 bytes\n",
      "               7 Dir(s)  67,669,565,440 bytes free\n"
     ]
    }
   ],
   "source": [
    "ls"
   ]
  },
  {
   "cell_type": "code",
   "execution_count": 44,
   "id": "3fb64be7",
   "metadata": {},
   "outputs": [
    {
     "data": {
      "text/plain": [
       "'C:\\\\Users\\\\KumarSS\\\\Plant Disease'"
      ]
     },
     "execution_count": 44,
     "metadata": {},
     "output_type": "execute_result"
    }
   ],
   "source": [
    "pwd"
   ]
  },
  {
   "cell_type": "code",
   "execution_count": 99,
   "id": "17a16432",
   "metadata": {},
   "outputs": [
    {
     "name": "stdout",
     "output_type": "stream",
     "text": [
      "Found 11386 images belonging to 9 classes.\n"
     ]
    }
   ],
   "source": [
    "x_train=train_datagen.flow_from_directory('Veg-dataset/train_set',target_size=(128,128),class_mode='categorical',batch_size=16)"
   ]
  },
  {
   "cell_type": "code",
   "execution_count": 100,
   "id": "f0830ce6",
   "metadata": {},
   "outputs": [
    {
     "name": "stdout",
     "output_type": "stream",
     "text": [
      "Found 3416 images belonging to 9 classes.\n"
     ]
    }
   ],
   "source": [
    "x_test=test_datagen.flow_from_directory('Veg-dataset/test_set',target_size=(128,128),class_mode='categorical',batch_size=26)"
   ]
  },
  {
   "cell_type": "code",
   "execution_count": 101,
   "id": "db2e9cb1",
   "metadata": {},
   "outputs": [
    {
     "data": {
      "text/plain": [
       "{'Pepper,_bell___Bacterial_spot': 0,\n",
       " 'Pepper,_bell___healthy': 1,\n",
       " 'Potato___Early_blight': 2,\n",
       " 'Potato___Late_blight': 3,\n",
       " 'Potato___healthy': 4,\n",
       " 'Tomato___Bacterial_spot': 5,\n",
       " 'Tomato___Late_blight': 6,\n",
       " 'Tomato___Leaf_Mold': 7,\n",
       " 'Tomato___Septoria_leaf_spot': 8}"
      ]
     },
     "execution_count": 101,
     "metadata": {},
     "output_type": "execute_result"
    }
   ],
   "source": [
    "x_train.class_indices"
   ]
  },
  {
   "cell_type": "markdown",
   "id": "67c22902",
   "metadata": {},
   "source": [
    "# CNN Implementation"
   ]
  },
  {
   "cell_type": "code",
   "execution_count": 102,
   "id": "b1d17eda",
   "metadata": {},
   "outputs": [],
   "source": [
    "#Import keras models and layers\n",
    "\n",
    "from keras.models import Sequential\n",
    "from keras.layers import Dense\n",
    "from keras.layers import Convolution2D\n",
    "from keras.layers import MaxPooling2D\n",
    "from keras.layers import Flatten\n"
   ]
  },
  {
   "cell_type": "code",
   "execution_count": 103,
   "id": "fb1db291",
   "metadata": {},
   "outputs": [],
   "source": [
    "model=Sequential()\n",
    "model.add(Convolution2D(32,(3,3), input_shape=(128,128,3),activation='relu'))\n",
    "model.add(MaxPooling2D(pool_size=(2,2)))\n",
    "model.add(Flatten())"
   ]
  },
  {
   "cell_type": "code",
   "execution_count": 104,
   "id": "3d6ecd30",
   "metadata": {},
   "outputs": [
    {
     "name": "stdout",
     "output_type": "stream",
     "text": [
      "Model: \"sequential_4\"\n",
      "_________________________________________________________________\n",
      " Layer (type)                Output Shape              Param #   \n",
      "=================================================================\n",
      " conv2d_4 (Conv2D)           (None, 126, 126, 32)      896       \n",
      "                                                                 \n",
      " max_pooling2d_4 (MaxPooling  (None, 63, 63, 32)       0         \n",
      " 2D)                                                             \n",
      "                                                                 \n",
      " flatten_4 (Flatten)         (None, 127008)            0         \n",
      "                                                                 \n",
      "=================================================================\n",
      "Total params: 896\n",
      "Trainable params: 896\n",
      "Non-trainable params: 0\n",
      "_________________________________________________________________\n"
     ]
    }
   ],
   "source": [
    "model.summary()"
   ]
  },
  {
   "cell_type": "markdown",
   "id": "99800737",
   "metadata": {},
   "source": [
    "# Hidden layers\n"
   ]
  },
  {
   "cell_type": "code",
   "execution_count": 105,
   "id": "83558f09",
   "metadata": {},
   "outputs": [],
   "source": [
    "model.add(Dense(300, activation='relu'))\n",
    "model.add(Dense(150, activation='relu'))\n",
    "model.add(Dense(75, activation='relu'))\n",
    "model.add(Dense(9, activation='softmax'))"
   ]
  },
  {
   "cell_type": "code",
   "execution_count": 106,
   "id": "380e662a",
   "metadata": {},
   "outputs": [],
   "source": [
    "# Compile the model\n",
    "model.compile(loss='categorical_crossentropy',optimizer='adam', metrics=['accuracy'])"
   ]
  },
  {
   "cell_type": "code",
   "execution_count": 107,
   "id": "71f06821",
   "metadata": {},
   "outputs": [
    {
     "data": {
      "text/plain": [
       "712"
      ]
     },
     "execution_count": 107,
     "metadata": {},
     "output_type": "execute_result"
    }
   ],
   "source": [
    "len(x_train)"
   ]
  },
  {
   "cell_type": "code",
   "execution_count": 108,
   "id": "a34d3b18",
   "metadata": {},
   "outputs": [
    {
     "data": {
      "text/plain": [
       "132"
      ]
     },
     "execution_count": 108,
     "metadata": {},
     "output_type": "execute_result"
    }
   ],
   "source": [
    "len(x_test)"
   ]
  },
  {
   "cell_type": "code",
   "execution_count": 109,
   "id": "3092d361",
   "metadata": {},
   "outputs": [
    {
     "name": "stdout",
     "output_type": "stream",
     "text": [
      "Epoch 1/20\n"
     ]
    },
    {
     "name": "stderr",
     "output_type": "stream",
     "text": [
      "C:\\Users\\KumarSS\\AppData\\Local\\Temp\\ipykernel_11188\\4058285867.py:2: UserWarning: `Model.fit_generator` is deprecated and will be removed in a future version. Please use `Model.fit`, which supports generators.\n",
      "  model.fit_generator(x_train,steps_per_epoch=89,validation_data=x_test, validation_steps=27,epochs=20)\n"
     ]
    },
    {
     "name": "stdout",
     "output_type": "stream",
     "text": [
      "89/89 [==============================] - 14s 154ms/step - loss: 2.4896 - accuracy: 0.3111 - val_loss: 212.3326 - val_accuracy: 0.4188\n",
      "Epoch 2/20\n",
      "89/89 [==============================] - 13s 148ms/step - loss: 1.4210 - accuracy: 0.5070 - val_loss: 255.8210 - val_accuracy: 0.4117\n",
      "Epoch 3/20\n",
      "89/89 [==============================] - 13s 147ms/step - loss: 1.1745 - accuracy: 0.5997 - val_loss: 351.9586 - val_accuracy: 0.4103\n",
      "Epoch 4/20\n",
      "89/89 [==============================] - 13s 145ms/step - loss: 0.9475 - accuracy: 0.6685 - val_loss: 797.9529 - val_accuracy: 0.2664\n",
      "Epoch 5/20\n",
      "89/89 [==============================] - 13s 146ms/step - loss: 0.9755 - accuracy: 0.6819 - val_loss: 864.6841 - val_accuracy: 0.3262\n",
      "Epoch 6/20\n",
      "89/89 [==============================] - 13s 150ms/step - loss: 0.8136 - accuracy: 0.7029 - val_loss: 885.2127 - val_accuracy: 0.2151\n",
      "Epoch 7/20\n",
      "89/89 [==============================] - 14s 152ms/step - loss: 0.7529 - accuracy: 0.7381 - val_loss: 896.7693 - val_accuracy: 0.2578\n",
      "Epoch 8/20\n",
      "89/89 [==============================] - 14s 158ms/step - loss: 0.7536 - accuracy: 0.7306 - val_loss: 1041.5101 - val_accuracy: 0.2607\n",
      "Epoch 9/20\n",
      "89/89 [==============================] - 14s 154ms/step - loss: 0.6772 - accuracy: 0.7549 - val_loss: 1178.0038 - val_accuracy: 0.2350\n",
      "Epoch 10/20\n",
      "89/89 [==============================] - 13s 148ms/step - loss: 0.5942 - accuracy: 0.7851 - val_loss: 941.9124 - val_accuracy: 0.2778\n",
      "Epoch 11/20\n",
      "89/89 [==============================] - 13s 147ms/step - loss: 0.6293 - accuracy: 0.7858 - val_loss: 1287.7374 - val_accuracy: 0.2464\n",
      "Epoch 12/20\n",
      "89/89 [==============================] - 13s 147ms/step - loss: 0.5962 - accuracy: 0.7858 - val_loss: 1290.4301 - val_accuracy: 0.2222\n",
      "Epoch 13/20\n",
      "89/89 [==============================] - 13s 151ms/step - loss: 0.5720 - accuracy: 0.7985 - val_loss: 1438.7499 - val_accuracy: 0.2521\n",
      "Epoch 14/20\n",
      "89/89 [==============================] - 13s 150ms/step - loss: 0.5256 - accuracy: 0.8139 - val_loss: 1493.8600 - val_accuracy: 0.2578\n",
      "Epoch 15/20\n",
      "89/89 [==============================] - 13s 151ms/step - loss: 0.5549 - accuracy: 0.8020 - val_loss: 1637.6111 - val_accuracy: 0.1624\n",
      "Epoch 16/20\n",
      "89/89 [==============================] - 14s 152ms/step - loss: 0.5432 - accuracy: 0.8125 - val_loss: 1343.3854 - val_accuracy: 0.3405\n",
      "Epoch 17/20\n",
      "89/89 [==============================] - 13s 151ms/step - loss: 0.4784 - accuracy: 0.8336 - val_loss: 1438.3064 - val_accuracy: 0.2977\n",
      "Epoch 18/20\n",
      "89/89 [==============================] - 14s 160ms/step - loss: 0.4912 - accuracy: 0.8315 - val_loss: 1670.6273 - val_accuracy: 0.2208\n",
      "Epoch 19/20\n",
      "89/89 [==============================] - 13s 149ms/step - loss: 0.5012 - accuracy: 0.8160 - val_loss: 1283.8746 - val_accuracy: 0.3134\n",
      "Epoch 20/20\n",
      "89/89 [==============================] - 13s 148ms/step - loss: 0.5025 - accuracy: 0.8152 - val_loss: 1554.7302 - val_accuracy: 0.2137\n"
     ]
    },
    {
     "data": {
      "text/plain": [
       "<keras.callbacks.History at 0x2020d525160>"
      ]
     },
     "execution_count": 109,
     "metadata": {},
     "output_type": "execute_result"
    }
   ],
   "source": [
    "#Fit the model\n",
    "model.fit_generator(x_train,steps_per_epoch=89,validation_data=x_test, validation_steps=27,epochs=20)\n",
    "#model.fit(x_train,steps_per_epoch=len(x_train),validation_data=x_test, validation_steps=len(x_test),epochs=3)"
   ]
  },
  {
   "cell_type": "code",
   "execution_count": null,
   "id": "c07606dc",
   "metadata": {},
   "outputs": [],
   "source": []
  },
  {
   "cell_type": "markdown",
   "id": "d95a99f7",
   "metadata": {},
   "source": [
    "# Save the model"
   ]
  },
  {
   "cell_type": "code",
   "execution_count": 110,
   "id": "d2231cfe",
   "metadata": {},
   "outputs": [],
   "source": [
    "model.save('vegetable.h5')"
   ]
  },
  {
   "cell_type": "code",
   "execution_count": 111,
   "id": "a60f184c",
   "metadata": {},
   "outputs": [
    {
     "name": "stdout",
     "output_type": "stream",
     "text": [
      " Volume in drive C has no label.\n",
      " Volume Serial Number is 2A3A-5508\n",
      "\n",
      " Directory of C:\\Users\\KumarSS\\Plant Disease\n",
      "\n",
      "17-07-2022  17:47    <DIR>          .\n",
      "17-07-2022  16:53    <DIR>          ..\n",
      "17-07-2022  17:18    <DIR>          .ipynb_checkpoints\n",
      "17-07-2022  16:51    <DIR>          DatasetPlantDisease\n",
      "17-07-2022  17:18        61,030,888 fruit.h5\n",
      "17-07-2022  17:10    <DIR>          fruit-dataset\n",
      "17-07-2022  17:24            34,298 fruittraining.ipynb\n",
      "17-07-2022  17:11    <DIR>          Training Files\n",
      "17-07-2022  17:10    <DIR>          Veg-dataset\n",
      "17-07-2022  17:47       457,981,136 vegetable.h5\n",
      "17-07-2022  17:47            15,570 vegtraining.ipynb\n",
      "               4 File(s)    519,061,892 bytes\n",
      "               7 Dir(s)  67,206,922,240 bytes free\n"
     ]
    }
   ],
   "source": [
    "ls"
   ]
  },
  {
   "cell_type": "code",
   "execution_count": null,
   "id": "7811ca25",
   "metadata": {},
   "outputs": [],
   "source": []
  }
 ],
 "metadata": {
  "kernelspec": {
   "display_name": "Python 3 (ipykernel)",
   "language": "python",
   "name": "python3"
  },
  "language_info": {
   "codemirror_mode": {
    "name": "ipython",
    "version": 3
   },
   "file_extension": ".py",
   "mimetype": "text/x-python",
   "name": "python",
   "nbconvert_exporter": "python",
   "pygments_lexer": "ipython3",
   "version": "3.9.12"
  }
 },
 "nbformat": 4,
 "nbformat_minor": 5
}
